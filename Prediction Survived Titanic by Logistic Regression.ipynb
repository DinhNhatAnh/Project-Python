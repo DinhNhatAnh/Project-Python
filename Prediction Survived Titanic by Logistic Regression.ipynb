{
 "cells": [
  {
   "cell_type": "code",
   "execution_count": 2,
   "id": "f91e9775",
   "metadata": {},
   "outputs": [],
   "source": [
    "import pandas as pd\n",
    "import numpy as np\n",
    "import matplotlib.pyplot as plt\n",
    "import seaborn as sns\n",
    "from sklearn.preprocessing import StandardScaler\n",
    "from sklearn.impute import SimpleImputer\n",
    "from sklearn.model_selection import train_test_split\n",
    "from sklearn.linear_model import LogisticRegression\n",
    "from sklearn.metrics import accuracy_score"
   ]
  },
  {
   "cell_type": "code",
   "execution_count": 3,
   "id": "8798d419",
   "metadata": {},
   "outputs": [],
   "source": [
    "train_df = pd.read_csv('train.csv')\n",
    "test_df = pd.read_csv('test.csv')"
   ]
  },
  {
   "cell_type": "code",
   "execution_count": 4,
   "id": "196798a3",
   "metadata": {},
   "outputs": [
    {
     "data": {
      "text/html": [
       "<div>\n",
       "<style scoped>\n",
       "    .dataframe tbody tr th:only-of-type {\n",
       "        vertical-align: middle;\n",
       "    }\n",
       "\n",
       "    .dataframe tbody tr th {\n",
       "        vertical-align: top;\n",
       "    }\n",
       "\n",
       "    .dataframe thead th {\n",
       "        text-align: right;\n",
       "    }\n",
       "</style>\n",
       "<table border=\"1\" class=\"dataframe\">\n",
       "  <thead>\n",
       "    <tr style=\"text-align: right;\">\n",
       "      <th></th>\n",
       "      <th>PassengerId</th>\n",
       "      <th>Survived</th>\n",
       "      <th>Pclass</th>\n",
       "      <th>Name</th>\n",
       "      <th>Sex</th>\n",
       "      <th>Age</th>\n",
       "      <th>SibSp</th>\n",
       "      <th>Parch</th>\n",
       "      <th>Ticket</th>\n",
       "      <th>Fare</th>\n",
       "      <th>Cabin</th>\n",
       "      <th>Embarked</th>\n",
       "    </tr>\n",
       "  </thead>\n",
       "  <tbody>\n",
       "    <tr>\n",
       "      <th>0</th>\n",
       "      <td>1</td>\n",
       "      <td>0</td>\n",
       "      <td>3</td>\n",
       "      <td>Braund, Mr. Owen Harris</td>\n",
       "      <td>male</td>\n",
       "      <td>22.0</td>\n",
       "      <td>1</td>\n",
       "      <td>0</td>\n",
       "      <td>A/5 21171</td>\n",
       "      <td>7.2500</td>\n",
       "      <td>NaN</td>\n",
       "      <td>S</td>\n",
       "    </tr>\n",
       "    <tr>\n",
       "      <th>1</th>\n",
       "      <td>2</td>\n",
       "      <td>1</td>\n",
       "      <td>1</td>\n",
       "      <td>Cumings, Mrs. John Bradley (Florence Briggs Th...</td>\n",
       "      <td>female</td>\n",
       "      <td>38.0</td>\n",
       "      <td>1</td>\n",
       "      <td>0</td>\n",
       "      <td>PC 17599</td>\n",
       "      <td>71.2833</td>\n",
       "      <td>C85</td>\n",
       "      <td>C</td>\n",
       "    </tr>\n",
       "    <tr>\n",
       "      <th>2</th>\n",
       "      <td>3</td>\n",
       "      <td>1</td>\n",
       "      <td>3</td>\n",
       "      <td>Heikkinen, Miss. Laina</td>\n",
       "      <td>female</td>\n",
       "      <td>26.0</td>\n",
       "      <td>0</td>\n",
       "      <td>0</td>\n",
       "      <td>STON/O2. 3101282</td>\n",
       "      <td>7.9250</td>\n",
       "      <td>NaN</td>\n",
       "      <td>S</td>\n",
       "    </tr>\n",
       "    <tr>\n",
       "      <th>3</th>\n",
       "      <td>4</td>\n",
       "      <td>1</td>\n",
       "      <td>1</td>\n",
       "      <td>Futrelle, Mrs. Jacques Heath (Lily May Peel)</td>\n",
       "      <td>female</td>\n",
       "      <td>35.0</td>\n",
       "      <td>1</td>\n",
       "      <td>0</td>\n",
       "      <td>113803</td>\n",
       "      <td>53.1000</td>\n",
       "      <td>C123</td>\n",
       "      <td>S</td>\n",
       "    </tr>\n",
       "    <tr>\n",
       "      <th>4</th>\n",
       "      <td>5</td>\n",
       "      <td>0</td>\n",
       "      <td>3</td>\n",
       "      <td>Allen, Mr. William Henry</td>\n",
       "      <td>male</td>\n",
       "      <td>35.0</td>\n",
       "      <td>0</td>\n",
       "      <td>0</td>\n",
       "      <td>373450</td>\n",
       "      <td>8.0500</td>\n",
       "      <td>NaN</td>\n",
       "      <td>S</td>\n",
       "    </tr>\n",
       "  </tbody>\n",
       "</table>\n",
       "</div>"
      ],
      "text/plain": [
       "   PassengerId  Survived  Pclass  \\\n",
       "0            1         0       3   \n",
       "1            2         1       1   \n",
       "2            3         1       3   \n",
       "3            4         1       1   \n",
       "4            5         0       3   \n",
       "\n",
       "                                                Name     Sex   Age  SibSp  \\\n",
       "0                            Braund, Mr. Owen Harris    male  22.0      1   \n",
       "1  Cumings, Mrs. John Bradley (Florence Briggs Th...  female  38.0      1   \n",
       "2                             Heikkinen, Miss. Laina  female  26.0      0   \n",
       "3       Futrelle, Mrs. Jacques Heath (Lily May Peel)  female  35.0      1   \n",
       "4                           Allen, Mr. William Henry    male  35.0      0   \n",
       "\n",
       "   Parch            Ticket     Fare Cabin Embarked  \n",
       "0      0         A/5 21171   7.2500   NaN        S  \n",
       "1      0          PC 17599  71.2833   C85        C  \n",
       "2      0  STON/O2. 3101282   7.9250   NaN        S  \n",
       "3      0            113803  53.1000  C123        S  \n",
       "4      0            373450   8.0500   NaN        S  "
      ]
     },
     "execution_count": 4,
     "metadata": {},
     "output_type": "execute_result"
    }
   ],
   "source": [
    "train_df.head()"
   ]
  },
  {
   "cell_type": "code",
   "execution_count": 5,
   "id": "4ffa48c3",
   "metadata": {},
   "outputs": [
    {
     "data": {
      "text/html": [
       "<div>\n",
       "<style scoped>\n",
       "    .dataframe tbody tr th:only-of-type {\n",
       "        vertical-align: middle;\n",
       "    }\n",
       "\n",
       "    .dataframe tbody tr th {\n",
       "        vertical-align: top;\n",
       "    }\n",
       "\n",
       "    .dataframe thead th {\n",
       "        text-align: right;\n",
       "    }\n",
       "</style>\n",
       "<table border=\"1\" class=\"dataframe\">\n",
       "  <thead>\n",
       "    <tr style=\"text-align: right;\">\n",
       "      <th></th>\n",
       "      <th>PassengerId</th>\n",
       "      <th>Pclass</th>\n",
       "      <th>Name</th>\n",
       "      <th>Sex</th>\n",
       "      <th>Age</th>\n",
       "      <th>SibSp</th>\n",
       "      <th>Parch</th>\n",
       "      <th>Ticket</th>\n",
       "      <th>Fare</th>\n",
       "      <th>Cabin</th>\n",
       "      <th>Embarked</th>\n",
       "    </tr>\n",
       "  </thead>\n",
       "  <tbody>\n",
       "    <tr>\n",
       "      <th>0</th>\n",
       "      <td>892</td>\n",
       "      <td>3</td>\n",
       "      <td>Kelly, Mr. James</td>\n",
       "      <td>male</td>\n",
       "      <td>34.5</td>\n",
       "      <td>0</td>\n",
       "      <td>0</td>\n",
       "      <td>330911</td>\n",
       "      <td>7.8292</td>\n",
       "      <td>NaN</td>\n",
       "      <td>Q</td>\n",
       "    </tr>\n",
       "    <tr>\n",
       "      <th>1</th>\n",
       "      <td>893</td>\n",
       "      <td>3</td>\n",
       "      <td>Wilkes, Mrs. James (Ellen Needs)</td>\n",
       "      <td>female</td>\n",
       "      <td>47.0</td>\n",
       "      <td>1</td>\n",
       "      <td>0</td>\n",
       "      <td>363272</td>\n",
       "      <td>7.0000</td>\n",
       "      <td>NaN</td>\n",
       "      <td>S</td>\n",
       "    </tr>\n",
       "    <tr>\n",
       "      <th>2</th>\n",
       "      <td>894</td>\n",
       "      <td>2</td>\n",
       "      <td>Myles, Mr. Thomas Francis</td>\n",
       "      <td>male</td>\n",
       "      <td>62.0</td>\n",
       "      <td>0</td>\n",
       "      <td>0</td>\n",
       "      <td>240276</td>\n",
       "      <td>9.6875</td>\n",
       "      <td>NaN</td>\n",
       "      <td>Q</td>\n",
       "    </tr>\n",
       "    <tr>\n",
       "      <th>3</th>\n",
       "      <td>895</td>\n",
       "      <td>3</td>\n",
       "      <td>Wirz, Mr. Albert</td>\n",
       "      <td>male</td>\n",
       "      <td>27.0</td>\n",
       "      <td>0</td>\n",
       "      <td>0</td>\n",
       "      <td>315154</td>\n",
       "      <td>8.6625</td>\n",
       "      <td>NaN</td>\n",
       "      <td>S</td>\n",
       "    </tr>\n",
       "    <tr>\n",
       "      <th>4</th>\n",
       "      <td>896</td>\n",
       "      <td>3</td>\n",
       "      <td>Hirvonen, Mrs. Alexander (Helga E Lindqvist)</td>\n",
       "      <td>female</td>\n",
       "      <td>22.0</td>\n",
       "      <td>1</td>\n",
       "      <td>1</td>\n",
       "      <td>3101298</td>\n",
       "      <td>12.2875</td>\n",
       "      <td>NaN</td>\n",
       "      <td>S</td>\n",
       "    </tr>\n",
       "  </tbody>\n",
       "</table>\n",
       "</div>"
      ],
      "text/plain": [
       "   PassengerId  Pclass                                          Name     Sex  \\\n",
       "0          892       3                              Kelly, Mr. James    male   \n",
       "1          893       3              Wilkes, Mrs. James (Ellen Needs)  female   \n",
       "2          894       2                     Myles, Mr. Thomas Francis    male   \n",
       "3          895       3                              Wirz, Mr. Albert    male   \n",
       "4          896       3  Hirvonen, Mrs. Alexander (Helga E Lindqvist)  female   \n",
       "\n",
       "    Age  SibSp  Parch   Ticket     Fare Cabin Embarked  \n",
       "0  34.5      0      0   330911   7.8292   NaN        Q  \n",
       "1  47.0      1      0   363272   7.0000   NaN        S  \n",
       "2  62.0      0      0   240276   9.6875   NaN        Q  \n",
       "3  27.0      0      0   315154   8.6625   NaN        S  \n",
       "4  22.0      1      1  3101298  12.2875   NaN        S  "
      ]
     },
     "execution_count": 5,
     "metadata": {},
     "output_type": "execute_result"
    }
   ],
   "source": [
    "test_df.head()"
   ]
  },
  {
   "cell_type": "markdown",
   "id": "375d1ebc",
   "metadata": {},
   "source": [
    "# EDA (Explainatory Data Analysis)"
   ]
  },
  {
   "cell_type": "code",
   "execution_count": 6,
   "id": "5fba1baf",
   "metadata": {},
   "outputs": [
    {
     "name": "stdout",
     "output_type": "stream",
     "text": [
      "<class 'pandas.core.frame.DataFrame'>\n",
      "RangeIndex: 891 entries, 0 to 890\n",
      "Data columns (total 12 columns):\n",
      " #   Column       Non-Null Count  Dtype  \n",
      "---  ------       --------------  -----  \n",
      " 0   PassengerId  891 non-null    int64  \n",
      " 1   Survived     891 non-null    int64  \n",
      " 2   Pclass       891 non-null    int64  \n",
      " 3   Name         891 non-null    object \n",
      " 4   Sex          891 non-null    object \n",
      " 5   Age          714 non-null    float64\n",
      " 6   SibSp        891 non-null    int64  \n",
      " 7   Parch        891 non-null    int64  \n",
      " 8   Ticket       891 non-null    object \n",
      " 9   Fare         891 non-null    float64\n",
      " 10  Cabin        204 non-null    object \n",
      " 11  Embarked     889 non-null    object \n",
      "dtypes: float64(2), int64(5), object(5)\n",
      "memory usage: 83.7+ KB\n"
     ]
    }
   ],
   "source": [
    "train_df.info()"
   ]
  },
  {
   "cell_type": "code",
   "execution_count": 7,
   "id": "3f5b3f84",
   "metadata": {},
   "outputs": [
    {
     "name": "stdout",
     "output_type": "stream",
     "text": [
      "<class 'pandas.core.frame.DataFrame'>\n",
      "RangeIndex: 418 entries, 0 to 417\n",
      "Data columns (total 11 columns):\n",
      " #   Column       Non-Null Count  Dtype  \n",
      "---  ------       --------------  -----  \n",
      " 0   PassengerId  418 non-null    int64  \n",
      " 1   Pclass       418 non-null    int64  \n",
      " 2   Name         418 non-null    object \n",
      " 3   Sex          418 non-null    object \n",
      " 4   Age          332 non-null    float64\n",
      " 5   SibSp        418 non-null    int64  \n",
      " 6   Parch        418 non-null    int64  \n",
      " 7   Ticket       418 non-null    object \n",
      " 8   Fare         417 non-null    float64\n",
      " 9   Cabin        91 non-null     object \n",
      " 10  Embarked     418 non-null    object \n",
      "dtypes: float64(2), int64(4), object(5)\n",
      "memory usage: 36.0+ KB\n"
     ]
    }
   ],
   "source": [
    "test_df.info()"
   ]
  },
  {
   "cell_type": "markdown",
   "id": "41cf621e",
   "metadata": {},
   "source": [
    "### Phân loại các thuộc tính:\n",
    "#### Thuộc tính định lượng:\n",
    "- PassengerId: Số thứ tự của người trên tàu\n",
    "- Age: Tuổi của người trên tàu\n",
    "- Fare: Giá vé\n",
    "#### Thuộc tính định tính:\n",
    "- Name: Tên của người trên tàu\n",
    "- Sex: Giới tính\n",
    "- Pclass: Khoang hạng trên tàu\n",
    "- Parch: Số lượng cha mẹ và trẻ em trên tàu\n",
    "- SibSp: Số lượng anh chị em và vợ chồng trên tàu\n",
    "- Ticket: Số vé tàu\n",
    "- Cabin: Số cabin\n",
    "- Embarked: Cảng mà lên đường (C = Cherbourg, Q = Queenstown, S = Southampton)"
   ]
  },
  {
   "cell_type": "markdown",
   "id": "b426fcae",
   "metadata": {},
   "source": [
    "Drop PassengerId column and Convert to right dtypes"
   ]
  },
  {
   "cell_type": "code",
   "execution_count": 8,
   "id": "31152b9f",
   "metadata": {},
   "outputs": [],
   "source": [
    "train_df = train_df.drop('PassengerId', axis=1)\n",
    "test_df = test_df.drop('PassengerId', axis=1)"
   ]
  },
  {
   "cell_type": "code",
   "execution_count": 9,
   "id": "cf7a1efb",
   "metadata": {},
   "outputs": [],
   "source": [
    "def convert_to_category(df):\n",
    "    cols = ['Pclass', 'Name', 'Sex', 'SibSp', 'Parch', 'Ticket', 'Cabin', 'Embarked']\n",
    "    for i in cols:\n",
    "        df[i] = df[i].astype('category')\n",
    "\n",
    "convert_to_category(train_df)\n",
    "convert_to_category(test_df)"
   ]
  },
  {
   "cell_type": "code",
   "execution_count": 10,
   "id": "e37e25b7",
   "metadata": {},
   "outputs": [],
   "source": [
    "num_cols = ['Age', 'Fare']\n",
    "cat_cols = ['Pclass', 'Name', 'Sex', 'SibSp', 'Parch', 'Ticket', 'Cabin', 'Embarked']"
   ]
  },
  {
   "cell_type": "markdown",
   "id": "afa26da7",
   "metadata": {},
   "source": [
    "### Phân tích thuộc tính Categorical với Survived\n",
    "#### Name"
   ]
  },
  {
   "cell_type": "code",
   "execution_count": 11,
   "id": "45879bf9",
   "metadata": {},
   "outputs": [
    {
     "data": {
      "text/plain": [
       "891"
      ]
     },
     "execution_count": 11,
     "metadata": {},
     "output_type": "execute_result"
    }
   ],
   "source": [
    "train_df['Name'].nunique()"
   ]
  },
  {
   "cell_type": "markdown",
   "id": "685229d5",
   "metadata": {},
   "source": [
    "Ta thấy `Name` là thuộc tính unique nên ta có thể drop khỏi tập dữ liệu, vì có thể sẽ mang nhiều ý nghĩa cho phân tích. "
   ]
  },
  {
   "cell_type": "code",
   "execution_count": 12,
   "id": "02139a9a",
   "metadata": {},
   "outputs": [],
   "source": [
    "train_df = train_df.drop('Name', axis=1)\n",
    "test_df = test_df.drop('Name', axis=1)"
   ]
  },
  {
   "cell_type": "code",
   "execution_count": 13,
   "id": "320c7d32",
   "metadata": {},
   "outputs": [
    {
     "data": {
      "text/html": [
       "<div>\n",
       "<style scoped>\n",
       "    .dataframe tbody tr th:only-of-type {\n",
       "        vertical-align: middle;\n",
       "    }\n",
       "\n",
       "    .dataframe tbody tr th {\n",
       "        vertical-align: top;\n",
       "    }\n",
       "\n",
       "    .dataframe thead th {\n",
       "        text-align: right;\n",
       "    }\n",
       "</style>\n",
       "<table border=\"1\" class=\"dataframe\">\n",
       "  <thead>\n",
       "    <tr style=\"text-align: right;\">\n",
       "      <th></th>\n",
       "      <th>Survived</th>\n",
       "      <th>Pclass</th>\n",
       "      <th>Sex</th>\n",
       "      <th>Age</th>\n",
       "      <th>SibSp</th>\n",
       "      <th>Parch</th>\n",
       "      <th>Ticket</th>\n",
       "      <th>Fare</th>\n",
       "      <th>Cabin</th>\n",
       "      <th>Embarked</th>\n",
       "    </tr>\n",
       "  </thead>\n",
       "  <tbody>\n",
       "    <tr>\n",
       "      <th>0</th>\n",
       "      <td>0</td>\n",
       "      <td>3</td>\n",
       "      <td>male</td>\n",
       "      <td>22.0</td>\n",
       "      <td>1</td>\n",
       "      <td>0</td>\n",
       "      <td>A/5 21171</td>\n",
       "      <td>7.2500</td>\n",
       "      <td>NaN</td>\n",
       "      <td>S</td>\n",
       "    </tr>\n",
       "    <tr>\n",
       "      <th>1</th>\n",
       "      <td>1</td>\n",
       "      <td>1</td>\n",
       "      <td>female</td>\n",
       "      <td>38.0</td>\n",
       "      <td>1</td>\n",
       "      <td>0</td>\n",
       "      <td>PC 17599</td>\n",
       "      <td>71.2833</td>\n",
       "      <td>C85</td>\n",
       "      <td>C</td>\n",
       "    </tr>\n",
       "    <tr>\n",
       "      <th>2</th>\n",
       "      <td>1</td>\n",
       "      <td>3</td>\n",
       "      <td>female</td>\n",
       "      <td>26.0</td>\n",
       "      <td>0</td>\n",
       "      <td>0</td>\n",
       "      <td>STON/O2. 3101282</td>\n",
       "      <td>7.9250</td>\n",
       "      <td>NaN</td>\n",
       "      <td>S</td>\n",
       "    </tr>\n",
       "    <tr>\n",
       "      <th>3</th>\n",
       "      <td>1</td>\n",
       "      <td>1</td>\n",
       "      <td>female</td>\n",
       "      <td>35.0</td>\n",
       "      <td>1</td>\n",
       "      <td>0</td>\n",
       "      <td>113803</td>\n",
       "      <td>53.1000</td>\n",
       "      <td>C123</td>\n",
       "      <td>S</td>\n",
       "    </tr>\n",
       "    <tr>\n",
       "      <th>4</th>\n",
       "      <td>0</td>\n",
       "      <td>3</td>\n",
       "      <td>male</td>\n",
       "      <td>35.0</td>\n",
       "      <td>0</td>\n",
       "      <td>0</td>\n",
       "      <td>373450</td>\n",
       "      <td>8.0500</td>\n",
       "      <td>NaN</td>\n",
       "      <td>S</td>\n",
       "    </tr>\n",
       "  </tbody>\n",
       "</table>\n",
       "</div>"
      ],
      "text/plain": [
       "   Survived Pclass     Sex   Age SibSp Parch            Ticket     Fare Cabin  \\\n",
       "0         0      3    male  22.0     1     0         A/5 21171   7.2500   NaN   \n",
       "1         1      1  female  38.0     1     0          PC 17599  71.2833   C85   \n",
       "2         1      3  female  26.0     0     0  STON/O2. 3101282   7.9250   NaN   \n",
       "3         1      1  female  35.0     1     0            113803  53.1000  C123   \n",
       "4         0      3    male  35.0     0     0            373450   8.0500   NaN   \n",
       "\n",
       "  Embarked  \n",
       "0        S  \n",
       "1        C  \n",
       "2        S  \n",
       "3        S  \n",
       "4        S  "
      ]
     },
     "execution_count": 13,
     "metadata": {},
     "output_type": "execute_result"
    }
   ],
   "source": [
    "train_df.head()"
   ]
  },
  {
   "cell_type": "markdown",
   "id": "6bc6f5d2",
   "metadata": {},
   "source": [
    "#### Cabin"
   ]
  },
  {
   "cell_type": "code",
   "execution_count": 14,
   "id": "ab0ec844",
   "metadata": {},
   "outputs": [
    {
     "name": "stdout",
     "output_type": "stream",
     "text": [
      "Số lượng dữ liệu khuyết thiếu của Cabin trên tập train: 687\n",
      "Tỷ lệ so với tập dữ liệu:  0.77%\n",
      "Số lượng dữ liệu khuyết thiếu của Cabin trên tập test: 327\n",
      "Tỷ lệ so với tập dữ liệu:  0.78%\n"
     ]
    }
   ],
   "source": [
    "print(f\"Số lượng dữ liệu khuyết thiếu của Cabin trên tập train: {train_df['Cabin'].isna().sum()}\")\n",
    "print(f\"Tỷ lệ so với tập dữ liệu: {train_df['Cabin'].isna().sum()/len(train_df): .2f}%\")\n",
    "print(f\"Số lượng dữ liệu khuyết thiếu của Cabin trên tập test: {test_df['Cabin'].isna().sum()}\")\n",
    "print(f\"Tỷ lệ so với tập dữ liệu: {test_df['Cabin'].isna().sum()/len(test_df): .2f}%\")"
   ]
  },
  {
   "cell_type": "markdown",
   "id": "3e0c262c",
   "metadata": {},
   "source": [
    "Số lượng dữ liệu khuyết thiếu của `Cabin` quá lớn so với tập dữ liệu train và test, nên ta sẽ drop khỏi tập dữ liệu."
   ]
  },
  {
   "cell_type": "code",
   "execution_count": 15,
   "id": "254719c2",
   "metadata": {},
   "outputs": [],
   "source": [
    "train_df = train_df.drop('Cabin', axis=1)\n",
    "test_df = test_df.drop('Cabin', axis=1)"
   ]
  },
  {
   "cell_type": "markdown",
   "id": "ff4c8cf4",
   "metadata": {},
   "source": [
    "#### Ticket"
   ]
  },
  {
   "cell_type": "code",
   "execution_count": 16,
   "id": "e842e6e0",
   "metadata": {},
   "outputs": [
    {
     "name": "stdout",
     "output_type": "stream",
     "text": [
      "Số lượng unique của vé tàu trên tập train: 681\n",
      "Tỷ lệ:  0.76%\n",
      "Số lượng unique của vé tàu trên tập test: 363\n",
      "Tỷ lệ:  0.87%\n"
     ]
    }
   ],
   "source": [
    "print(f\"Số lượng unique của vé tàu trên tập train: {train_df['Ticket'].nunique()}\")\n",
    "print(f\"Tỷ lệ: {train_df['Ticket'].nunique()/len(train_df): .2f}%\")\n",
    "print(f\"Số lượng unique của vé tàu trên tập test: {test_df['Ticket'].nunique()}\")\n",
    "print(f\"Tỷ lệ: {test_df['Ticket'].nunique()/len(test_df): .2f}%\")"
   ]
  },
  {
   "cell_type": "markdown",
   "id": "d37c17df",
   "metadata": {},
   "source": [
    "Ta thấy `Ticket` là thuộc tính unique nên ta có thể drop khỏi tập dữ liệu, vì có thể sẽ mang nhiều ý nghĩa cho phân tích."
   ]
  },
  {
   "cell_type": "code",
   "execution_count": 17,
   "id": "3b7cdf6e",
   "metadata": {},
   "outputs": [],
   "source": [
    "train_df = train_df.drop('Ticket', axis=1)\n",
    "test_df = test_df.drop('Ticket', axis=1)"
   ]
  },
  {
   "cell_type": "markdown",
   "id": "c2d7a227",
   "metadata": {},
   "source": [
    "#### Sex"
   ]
  },
  {
   "cell_type": "code",
   "execution_count": 18,
   "id": "3aa22716",
   "metadata": {},
   "outputs": [
    {
     "name": "stdout",
     "output_type": "stream",
     "text": [
      "male      577\n",
      "female    314\n",
      "Name: Sex, dtype: int64\n",
      "male      0.647587\n",
      "female    0.352413\n",
      "Name: Sex, dtype: float64\n"
     ]
    }
   ],
   "source": [
    "print(train_df['Sex'].value_counts())\n",
    "print(train_df['Sex'].value_counts(normalize=True))"
   ]
  },
  {
   "cell_type": "code",
   "execution_count": 28,
   "id": "abf91b66",
   "metadata": {},
   "outputs": [
    {
     "data": {
      "image/png": "[encoded data removed]",
      "text/plain": [
       "<Figure size 720x360 with 1 Axes>"
      ]
     },
     "metadata": {
      "needs_background": "light"
     },
     "output_type": "display_data"
    }
   ],
   "source": [
    "plt.figure(figsize=(10,5))\n",
    "sns.countplot(data = train_df, x = 'Sex', hue = 'Survived', palette='Blues')\n",
    "plt.title(\"Khả năng sống sót thông qua Giới tính\", fontsize = 14)\n",
    "plt.xlabel(\"Sex\", fontsize=14);"
   ]
  },
  {
   "cell_type": "markdown",
   "id": "7daed028",
   "metadata": {},
   "source": [
    "- Số lượng Nam giới trên tàu nhiều hơn Nữ giới, chiếm 64% số lượng người ở trên tàu.\n",
    "- Nữ giới có tỷ lệ sống sót nhiều hơn Nam giới."
   ]
  },
  {
   "cell_type": "markdown",
   "id": "592698b7",
   "metadata": {},
   "source": [
    "#### Pclass"
   ]
  },
  {
   "cell_type": "code",
   "execution_count": 29,
   "id": "485a73f2",
   "metadata": {},
   "outputs": [
    {
     "name": "stdout",
     "output_type": "stream",
     "text": [
      "3    491\n",
      "1    216\n",
      "2    184\n",
      "Name: Pclass, dtype: int64\n",
      "3    0.551066\n",
      "1    0.242424\n",
      "2    0.206510\n",
      "Name: Pclass, dtype: float64\n"
     ]
    }
   ],
   "source": [
    "print(train_df['Pclass'].value_counts())\n",
    "print(train_df['Pclass'].value_counts(normalize=True))"
   ]
  },
  {
   "cell_type": "code",
   "execution_count": 31,
   "id": "f5911fc5",
   "metadata": {},
   "outputs": [
    {
     "data": {
      "text/plain": [
       "Text(0.5, 0, 'Pclass')"
      ]
     },
     "execution_count": 31,
     "metadata": {},
     "output_type": "execute_result"
    },
    {
     "data": {
      "image/png": "[encoded data removed]",
      "text/plain": [
       "<Figure size 720x360 with 1 Axes>"
      ]
     },
     "metadata": {
      "needs_background": "light"
     },
     "output_type": "display_data"
    }
   ],
   "source": [
    "plt.figure(figsize=(10,5))\n",
    "sns.countplot(data = train_df, x = 'Pclass', hue = 'Survived', palette='Blues')\n",
    "plt.title(\"Khả năng sống sót thông qua Thứ tự khoang trên tàu\", fontsize = 14)\n",
    "plt.xlabel(\"Pclass\", fontsize=14);"
   ]
  },
  {
   "cell_type": "markdown",
   "id": "f4d2b46c",
   "metadata": {},
   "source": [
    "- Số lượng người trên tàu ở khoang hạng 3 đông nhất, khoang hạng 1 thấp nhất\n",
    "- Người ở khoang hạng nhất thì có cơ hội sống sót cao và số lượng tử vong thấp nhất so với 2 khoang ở dưới.\n",
    "- Người ở khoang thấp nhất là khoang số 3 thì có số lượng người tử vong cao nhất."
   ]
  },
  {
   "cell_type": "markdown",
   "id": "3e53afdf",
   "metadata": {},
   "source": [
    "#### Embarked"
   ]
  },
  {
   "cell_type": "code",
   "execution_count": 32,
   "id": "d39ebb3d",
   "metadata": {},
   "outputs": [
    {
     "name": "stdout",
     "output_type": "stream",
     "text": [
      "S    644\n",
      "C    168\n",
      "Q     77\n",
      "Name: Embarked, dtype: int64\n",
      "S    0.724409\n",
      "C    0.188976\n",
      "Q    0.086614\n",
      "Name: Embarked, dtype: float64\n"
     ]
    }
   ],
   "source": [
    "print(train_df['Embarked'].value_counts())\n",
    "print(train_df['Embarked'].value_counts(normalize=True))"
   ]
  },
  {
   "cell_type": "code",
   "execution_count": 33,
   "id": "147dacac",
   "metadata": {},
   "outputs": [
    {
     "data": {
      "image/png": "[encoded data removed]",
      "text/plain": [
       "<Figure size 720x360 with 1 Axes>"
      ]
     },
     "metadata": {
      "needs_background": "light"
     },
     "output_type": "display_data"
    }
   ],
   "source": [
    "plt.figure(figsize=(10,5))\n",
    "sns.countplot(data = train_df, x = 'Embarked', hue = 'Survived', palette='Blues')\n",
    "plt.title(\"Khả năng sống sót thông qua Cảng khởi hành\", fontsize = 14)\n",
    "plt.xlabel(\"Embarked\", fontsize=14);"
   ]
  },
  {
   "cell_type": "markdown",
   "id": "7df85ab5",
   "metadata": {},
   "source": [
    "Ta thấy: \n",
    "- Hành khách khởi hành tại cảng Southampton cao nhất, tỷ lệ người sống sót và tử vong cũng cao nhất. \n",
    "- Các hành khách khởi hành tại Cherbourg và Queenstown chỉ chiếm tỷ lệ nhỏ trong số lượng hành khách trên tàu. \n",
    "- Queenstown có số lượng người sống sót và tử vong thấp nhất."
   ]
  },
  {
   "cell_type": "markdown",
   "id": "b8172efd",
   "metadata": {},
   "source": [
    "#### SibSp"
   ]
  },
  {
   "cell_type": "code",
   "execution_count": 35,
   "id": "01aea45e",
   "metadata": {},
   "outputs": [
    {
     "name": "stdout",
     "output_type": "stream",
     "text": [
      "0    608\n",
      "1    209\n",
      "2     28\n",
      "4     18\n",
      "3     16\n",
      "8      7\n",
      "5      5\n",
      "Name: SibSp, dtype: int64\n",
      "0    0.682379\n",
      "1    0.234568\n",
      "2    0.031425\n",
      "4    0.020202\n",
      "3    0.017957\n",
      "8    0.007856\n",
      "5    0.005612\n",
      "Name: SibSp, dtype: float64\n"
     ]
    }
   ],
   "source": [
    "print(train_df['SibSp'].value_counts())\n",
    "print(train_df['SibSp'].value_counts(normalize=True))"
   ]
  },
  {
   "cell_type": "code",
   "execution_count": 34,
   "id": "7ce47153",
   "metadata": {},
   "outputs": [
    {
     "data": {
      "image/png": "[encoded data removed]",
      "text/plain": [
       "<Figure size 720x360 with 1 Axes>"
      ]
     },
     "metadata": {
      "needs_background": "light"
     },
     "output_type": "display_data"
    }
   ],
   "source": [
    "plt.figure(figsize=(10,5))\n",
    "sns.countplot(data = train_df, x = 'SibSp', hue = 'Survived', palette='Blues')\n",
    "plt.title(\"Khả năng sống sót thông qua Số lượng Anh chị em hoặc vợ chồng đi cùng\", fontsize = 14)\n",
    "plt.xlabel(\"SibSp\", fontsize=14);"
   ]
  },
  {
   "cell_type": "code",
   "execution_count": 36,
   "id": "dd39d7dd",
   "metadata": {},
   "outputs": [],
   "source": [
    "train_df['SibSp_groups'] = pd.cut(train_df['SibSp'], bins=[-1, 0, 3, 5, 11], labels = ['Solo', 'Small', 'Medium', 'Large'])\n",
    "test_df['SibSp_groups'] = pd.cut(test_df['SibSp'], bins=[-1, 0, 3, 5, 11], labels = ['Solo', 'Small', 'Medium', 'Large'])"
   ]
  },
  {
   "cell_type": "code",
   "execution_count": 38,
   "id": "2698299f",
   "metadata": {},
   "outputs": [
    {
     "data": {
      "image/png": "[encoded data removed]",
      "text/plain": [
       "<Figure size 720x360 with 1 Axes>"
      ]
     },
     "metadata": {
      "needs_background": "light"
     },
     "output_type": "display_data"
    }
   ],
   "source": [
    "plt.figure(figsize=(10,5))\n",
    "sns.countplot(data = train_df, x = 'SibSp_groups', hue = 'Survived', palette='Blues')\n",
    "plt.title(\"Khả năng sống sót thông qua Nhóm SibSp\", fontsize = 14)\n",
    "plt.xlabel(\"SibSp Groups\", fontsize=14);"
   ]
  },
  {
   "cell_type": "markdown",
   "id": "e589ff8f",
   "metadata": {},
   "source": [
    "- Hầu hết hành khách có số lượng anh chị em hoặc vợ chồng đi cùng rất ít. Chủ yếu là đi một mình.\n",
    "- Số lượng SibSp từ 1 - 3, có số lượng khách hàng sống sót nhỉnh hơn so với số lượng hành khách tử vong\n",
    "- Hành khách đi một mình thì tử vong cao hơn sống sót."
   ]
  },
  {
   "cell_type": "markdown",
   "id": "57549607",
   "metadata": {},
   "source": [
    "#### Parch"
   ]
  },
  {
   "cell_type": "code",
   "execution_count": 39,
   "id": "6927f653",
   "metadata": {},
   "outputs": [
    {
     "name": "stdout",
     "output_type": "stream",
     "text": [
      "0    678\n",
      "1    118\n",
      "2     80\n",
      "3      5\n",
      "5      5\n",
      "4      4\n",
      "6      1\n",
      "Name: Parch, dtype: int64\n",
      "0    0.760943\n",
      "1    0.132435\n",
      "2    0.089787\n",
      "3    0.005612\n",
      "5    0.005612\n",
      "4    0.004489\n",
      "6    0.001122\n",
      "Name: Parch, dtype: float64\n"
     ]
    }
   ],
   "source": [
    "print(train_df['Parch'].value_counts())\n",
    "print(train_df['Parch'].value_counts(normalize=True))"
   ]
  },
  {
   "cell_type": "code",
   "execution_count": 40,
   "id": "57cd81d5",
   "metadata": {},
   "outputs": [
    {
     "data": {
      "image/png": "[encoded data removed]",
      "text/plain": [
       "<Figure size 720x360 with 1 Axes>"
      ]
     },
     "metadata": {
      "needs_background": "light"
     },
     "output_type": "display_data"
    }
   ],
   "source": [
    "plt.figure(figsize=(10,5))\n",
    "sns.countplot(data = train_df, x = 'Parch', hue = 'Survived', palette='Blues')\n",
    "plt.title(\"Khả năng sống sót thông qua Số lượng Cha mẹ hoặc con cái đi cùng\", fontsize = 14)\n",
    "plt.xlabel(\"Parch\", fontsize=14);"
   ]
  },
  {
   "cell_type": "code",
   "execution_count": 41,
   "id": "3c630954",
   "metadata": {},
   "outputs": [],
   "source": [
    "train_df['Parch_groups'] = pd.cut(train_df['Parch'], bins=[-1, 0, 3, 5, 11], labels = ['Solo', 'Small', 'Medium', 'Large'])\n",
    "test_df['Parch_groups'] = pd.cut(test_df['Parch'], bins=[-1, 0, 3, 5, 11], labels = ['Solo', 'Small', 'Medium', 'Large'])"
   ]
  },
  {
   "cell_type": "code",
   "execution_count": 42,
   "id": "75262156",
   "metadata": {},
   "outputs": [
    {
     "data": {
      "image/png": "[encoded data removed]",
      "text/plain": [
       "<Figure size 720x360 with 1 Axes>"
      ]
     },
     "metadata": {
      "needs_background": "light"
     },
     "output_type": "display_data"
    }
   ],
   "source": [
    "plt.figure(figsize=(10,5))\n",
    "sns.countplot(data = train_df, x = 'Parch_groups', hue = 'Survived', palette='Blues')\n",
    "plt.title(\"Khả năng sống sót thông qua Nhóm Parch\", fontsize = 14)\n",
    "plt.xlabel(\"Parch Groups\", fontsize=14);"
   ]
  },
  {
   "cell_type": "markdown",
   "id": "099952d2",
   "metadata": {},
   "source": [
    "Cũng giống như SibSp:\n",
    "- Số lượng hành khách đi một mình chiếm tỷ lệ cao nhất.\n",
    "- Số lượng hành khách đi một mình tử vong cũng như sống sót cao.\n",
    "- Số lượng hành khách đi cùng với cha mẹ hoặc con cái từ 1 đến 3, số lượng sống sót nhỉnh hơn số lượng tử vong."
   ]
  },
  {
   "cell_type": "markdown",
   "id": "88e14783",
   "metadata": {},
   "source": [
    "Kiểm định xem 2 thuộc tính này có tương quan với nhau không?"
   ]
  },
  {
   "cell_type": "code",
   "execution_count": 43,
   "id": "1f333a76",
   "metadata": {},
   "outputs": [],
   "source": [
    "from scipy import stats\n",
    "from scipy.stats import chi2_contingency"
   ]
  },
  {
   "cell_type": "code",
   "execution_count": 44,
   "id": "0b3b53c6",
   "metadata": {},
   "outputs": [
    {
     "name": "stdout",
     "output_type": "stream",
     "text": [
      "pvalue: 1.7902298345649077e-51\n"
     ]
    }
   ],
   "source": [
    "crosstab = pd.crosstab(train_df['SibSp'], train_df['Parch'])\n",
    "chi2, p, dof, expected = chi2_contingency(crosstab)\n",
    "print(f\"pvalue: {p}\")"
   ]
  },
  {
   "cell_type": "markdown",
   "id": "ed17c905",
   "metadata": {},
   "source": [
    "#### Hai thuộc tính có mối quan hệ tương quan với nhau. Ta sẽ kết hợp 2 thuộc tính này."
   ]
  },
  {
   "cell_type": "code",
   "execution_count": 45,
   "id": "519c3b12",
   "metadata": {},
   "outputs": [],
   "source": [
    "train_df['Family_size'] = train_df['SibSp'].astype('int') + train_df['Parch'].astype('int') + 1\n",
    "test_df['Family_size'] = test_df['SibSp'].astype('int') + test_df['Parch'].astype('int') + 1"
   ]
  },
  {
   "cell_type": "code",
   "execution_count": 46,
   "id": "294c51c6",
   "metadata": {},
   "outputs": [
    {
     "data": {
      "text/html": [
       "<div>\n",
       "<style scoped>\n",
       "    .dataframe tbody tr th:only-of-type {\n",
       "        vertical-align: middle;\n",
       "    }\n",
       "\n",
       "    .dataframe tbody tr th {\n",
       "        vertical-align: top;\n",
       "    }\n",
       "\n",
       "    .dataframe thead th {\n",
       "        text-align: right;\n",
       "    }\n",
       "</style>\n",
       "<table border=\"1\" class=\"dataframe\">\n",
       "  <thead>\n",
       "    <tr style=\"text-align: right;\">\n",
       "      <th></th>\n",
       "      <th>Survived</th>\n",
       "      <th>Pclass</th>\n",
       "      <th>Sex</th>\n",
       "      <th>Age</th>\n",
       "      <th>SibSp</th>\n",
       "      <th>Parch</th>\n",
       "      <th>Fare</th>\n",
       "      <th>Embarked</th>\n",
       "      <th>SibSp_groups</th>\n",
       "      <th>Parch_groups</th>\n",
       "      <th>Family_size</th>\n",
       "    </tr>\n",
       "  </thead>\n",
       "  <tbody>\n",
       "    <tr>\n",
       "      <th>0</th>\n",
       "      <td>0</td>\n",
       "      <td>3</td>\n",
       "      <td>male</td>\n",
       "      <td>22.0</td>\n",
       "      <td>1</td>\n",
       "      <td>0</td>\n",
       "      <td>7.2500</td>\n",
       "      <td>S</td>\n",
       "      <td>Small</td>\n",
       "      <td>Solo</td>\n",
       "      <td>2</td>\n",
       "    </tr>\n",
       "    <tr>\n",
       "      <th>1</th>\n",
       "      <td>1</td>\n",
       "      <td>1</td>\n",
       "      <td>female</td>\n",
       "      <td>38.0</td>\n",
       "      <td>1</td>\n",
       "      <td>0</td>\n",
       "      <td>71.2833</td>\n",
       "      <td>C</td>\n",
       "      <td>Small</td>\n",
       "      <td>Solo</td>\n",
       "      <td>2</td>\n",
       "    </tr>\n",
       "    <tr>\n",
       "      <th>2</th>\n",
       "      <td>1</td>\n",
       "      <td>3</td>\n",
       "      <td>female</td>\n",
       "      <td>26.0</td>\n",
       "      <td>0</td>\n",
       "      <td>0</td>\n",
       "      <td>7.9250</td>\n",
       "      <td>S</td>\n",
       "      <td>Solo</td>\n",
       "      <td>Solo</td>\n",
       "      <td>1</td>\n",
       "    </tr>\n",
       "    <tr>\n",
       "      <th>3</th>\n",
       "      <td>1</td>\n",
       "      <td>1</td>\n",
       "      <td>female</td>\n",
       "      <td>35.0</td>\n",
       "      <td>1</td>\n",
       "      <td>0</td>\n",
       "      <td>53.1000</td>\n",
       "      <td>S</td>\n",
       "      <td>Small</td>\n",
       "      <td>Solo</td>\n",
       "      <td>2</td>\n",
       "    </tr>\n",
       "    <tr>\n",
       "      <th>4</th>\n",
       "      <td>0</td>\n",
       "      <td>3</td>\n",
       "      <td>male</td>\n",
       "      <td>35.0</td>\n",
       "      <td>0</td>\n",
       "      <td>0</td>\n",
       "      <td>8.0500</td>\n",
       "      <td>S</td>\n",
       "      <td>Solo</td>\n",
       "      <td>Solo</td>\n",
       "      <td>1</td>\n",
       "    </tr>\n",
       "    <tr>\n",
       "      <th>...</th>\n",
       "      <td>...</td>\n",
       "      <td>...</td>\n",
       "      <td>...</td>\n",
       "      <td>...</td>\n",
       "      <td>...</td>\n",
       "      <td>...</td>\n",
       "      <td>...</td>\n",
       "      <td>...</td>\n",
       "      <td>...</td>\n",
       "      <td>...</td>\n",
       "      <td>...</td>\n",
       "    </tr>\n",
       "    <tr>\n",
       "      <th>886</th>\n",
       "      <td>0</td>\n",
       "      <td>2</td>\n",
       "      <td>male</td>\n",
       "      <td>27.0</td>\n",
       "      <td>0</td>\n",
       "      <td>0</td>\n",
       "      <td>13.0000</td>\n",
       "      <td>S</td>\n",
       "      <td>Solo</td>\n",
       "      <td>Solo</td>\n",
       "      <td>1</td>\n",
       "    </tr>\n",
       "    <tr>\n",
       "      <th>887</th>\n",
       "      <td>1</td>\n",
       "      <td>1</td>\n",
       "      <td>female</td>\n",
       "      <td>19.0</td>\n",
       "      <td>0</td>\n",
       "      <td>0</td>\n",
       "      <td>30.0000</td>\n",
       "      <td>S</td>\n",
       "      <td>Solo</td>\n",
       "      <td>Solo</td>\n",
       "      <td>1</td>\n",
       "    </tr>\n",
       "    <tr>\n",
       "      <th>888</th>\n",
       "      <td>0</td>\n",
       "      <td>3</td>\n",
       "      <td>female</td>\n",
       "      <td>NaN</td>\n",
       "      <td>1</td>\n",
       "      <td>2</td>\n",
       "      <td>23.4500</td>\n",
       "      <td>S</td>\n",
       "      <td>Small</td>\n",
       "      <td>Small</td>\n",
       "      <td>4</td>\n",
       "    </tr>\n",
       "    <tr>\n",
       "      <th>889</th>\n",
       "      <td>1</td>\n",
       "      <td>1</td>\n",
       "      <td>male</td>\n",
       "      <td>26.0</td>\n",
       "      <td>0</td>\n",
       "      <td>0</td>\n",
       "      <td>30.0000</td>\n",
       "      <td>C</td>\n",
       "      <td>Solo</td>\n",
       "      <td>Solo</td>\n",
       "      <td>1</td>\n",
       "    </tr>\n",
       "    <tr>\n",
       "      <th>890</th>\n",
       "      <td>0</td>\n",
       "      <td>3</td>\n",
       "      <td>male</td>\n",
       "      <td>32.0</td>\n",
       "      <td>0</td>\n",
       "      <td>0</td>\n",
       "      <td>7.7500</td>\n",
       "      <td>Q</td>\n",
       "      <td>Solo</td>\n",
       "      <td>Solo</td>\n",
       "      <td>1</td>\n",
       "    </tr>\n",
       "  </tbody>\n",
       "</table>\n",
       "<p>891 rows × 11 columns</p>\n",
       "</div>"
      ],
      "text/plain": [
       "     Survived Pclass     Sex   Age SibSp Parch     Fare Embarked SibSp_groups  \\\n",
       "0           0      3    male  22.0     1     0   7.2500        S        Small   \n",
       "1           1      1  female  38.0     1     0  71.2833        C        Small   \n",
       "2           1      3  female  26.0     0     0   7.9250        S         Solo   \n",
       "3           1      1  female  35.0     1     0  53.1000        S        Small   \n",
       "4           0      3    male  35.0     0     0   8.0500        S         Solo   \n",
       "..        ...    ...     ...   ...   ...   ...      ...      ...          ...   \n",
       "886         0      2    male  27.0     0     0  13.0000        S         Solo   \n",
       "887         1      1  female  19.0     0     0  30.0000        S         Solo   \n",
       "888         0      3  female   NaN     1     2  23.4500        S        Small   \n",
       "889         1      1    male  26.0     0     0  30.0000        C         Solo   \n",
       "890         0      3    male  32.0     0     0   7.7500        Q         Solo   \n",
       "\n",
       "    Parch_groups  Family_size  \n",
       "0           Solo            2  \n",
       "1           Solo            2  \n",
       "2           Solo            1  \n",
       "3           Solo            2  \n",
       "4           Solo            1  \n",
       "..           ...          ...  \n",
       "886         Solo            1  \n",
       "887         Solo            1  \n",
       "888        Small            4  \n",
       "889         Solo            1  \n",
       "890         Solo            1  \n",
       "\n",
       "[891 rows x 11 columns]"
      ]
     },
     "execution_count": 46,
     "metadata": {},
     "output_type": "execute_result"
    }
   ],
   "source": [
    "train_df"
   ]
  },
  {
   "cell_type": "code",
   "execution_count": 47,
   "id": "02059156",
   "metadata": {},
   "outputs": [
    {
     "name": "stdout",
     "output_type": "stream",
     "text": [
      "<class 'pandas.core.frame.DataFrame'>\n",
      "RangeIndex: 891 entries, 0 to 890\n",
      "Data columns (total 11 columns):\n",
      " #   Column        Non-Null Count  Dtype   \n",
      "---  ------        --------------  -----   \n",
      " 0   Survived      891 non-null    int64   \n",
      " 1   Pclass        891 non-null    category\n",
      " 2   Sex           891 non-null    category\n",
      " 3   Age           714 non-null    float64 \n",
      " 4   SibSp         891 non-null    category\n",
      " 5   Parch         891 non-null    category\n",
      " 6   Fare          891 non-null    float64 \n",
      " 7   Embarked      889 non-null    category\n",
      " 8   SibSp_groups  891 non-null    category\n",
      " 9   Parch_groups  891 non-null    category\n",
      " 10  Family_size   891 non-null    int32   \n",
      "dtypes: category(7), float64(2), int32(1), int64(1)\n",
      "memory usage: 32.1 KB\n"
     ]
    }
   ],
   "source": [
    "train_df.info()"
   ]
  },
  {
   "cell_type": "markdown",
   "id": "d5f30c6e",
   "metadata": {},
   "source": [
    "### Phân tích thuộc tính định lượng"
   ]
  },
  {
   "cell_type": "markdown",
   "id": "b5e235c1",
   "metadata": {},
   "source": [
    "#### Age"
   ]
  },
  {
   "cell_type": "code",
   "execution_count": 48,
   "id": "3b937636",
   "metadata": {},
   "outputs": [
    {
     "data": {
      "text/html": [
       "<div>\n",
       "<style scoped>\n",
       "    .dataframe tbody tr th:only-of-type {\n",
       "        vertical-align: middle;\n",
       "    }\n",
       "\n",
       "    .dataframe tbody tr th {\n",
       "        vertical-align: top;\n",
       "    }\n",
       "\n",
       "    .dataframe thead th {\n",
       "        text-align: right;\n",
       "    }\n",
       "</style>\n",
       "<table border=\"1\" class=\"dataframe\">\n",
       "  <thead>\n",
       "    <tr style=\"text-align: right;\">\n",
       "      <th></th>\n",
       "      <th>count</th>\n",
       "      <th>mean</th>\n",
       "      <th>std</th>\n",
       "      <th>min</th>\n",
       "      <th>25%</th>\n",
       "      <th>50%</th>\n",
       "      <th>75%</th>\n",
       "      <th>max</th>\n",
       "    </tr>\n",
       "  </thead>\n",
       "  <tbody>\n",
       "    <tr>\n",
       "      <th>Age</th>\n",
       "      <td>714.0</td>\n",
       "      <td>29.699118</td>\n",
       "      <td>14.526497</td>\n",
       "      <td>0.42</td>\n",
       "      <td>20.125</td>\n",
       "      <td>28.0</td>\n",
       "      <td>38.0</td>\n",
       "      <td>80.0</td>\n",
       "    </tr>\n",
       "  </tbody>\n",
       "</table>\n",
       "</div>"
      ],
      "text/plain": [
       "     count       mean        std   min     25%   50%   75%   max\n",
       "Age  714.0  29.699118  14.526497  0.42  20.125  28.0  38.0  80.0"
      ]
     },
     "execution_count": 48,
     "metadata": {},
     "output_type": "execute_result"
    }
   ],
   "source": [
    "train_df['Age'].describe().to_frame().T"
   ]
  },
  {
   "cell_type": "code",
   "execution_count": 50,
   "id": "c0010423",
   "metadata": {},
   "outputs": [
    {
     "data": {
      "image/png": "[encoded data removed]",
      "text/plain": [
       "<Figure size 720x360 with 1 Axes>"
      ]
     },
     "metadata": {
      "needs_background": "light"
     },
     "output_type": "display_data"
    }
   ],
   "source": [
    "plt.figure(figsize=(10,5))\n",
    "sns.histplot(data=train_df, x='Age', bins=40, hue='Survived', kde=True)\n",
    "plt.title(\"Khả năng sống sót thông qua phân bố tuổi\", fontsize=14)\n",
    "plt.xlabel(\"Age\", fontsize=14);"
   ]
  },
  {
   "cell_type": "markdown",
   "id": "d865ab59",
   "metadata": {},
   "source": [
    "- Độ tuổi trải dài tới 80 tuổi cao nhất.\n",
    "- Độ tuổi tập trung nhất vào khoảng từ 18 tuổi đến 38 tuổi, kể cả sống sót hay tử vong.\n",
    "- Trẻ em có tỷ lệ sống sót cao hơn tử vong.\n",
    "- Số người tử vong cao nhất là người trong độ tuổi 18 - 25 tuổi."
   ]
  },
  {
   "cell_type": "markdown",
   "id": "dcd50050",
   "metadata": {},
   "source": [
    "#### Fare"
   ]
  },
  {
   "cell_type": "code",
   "execution_count": 51,
   "id": "218dd624",
   "metadata": {},
   "outputs": [
    {
     "data": {
      "text/html": [
       "<div>\n",
       "<style scoped>\n",
       "    .dataframe tbody tr th:only-of-type {\n",
       "        vertical-align: middle;\n",
       "    }\n",
       "\n",
       "    .dataframe tbody tr th {\n",
       "        vertical-align: top;\n",
       "    }\n",
       "\n",
       "    .dataframe thead th {\n",
       "        text-align: right;\n",
       "    }\n",
       "</style>\n",
       "<table border=\"1\" class=\"dataframe\">\n",
       "  <thead>\n",
       "    <tr style=\"text-align: right;\">\n",
       "      <th></th>\n",
       "      <th>count</th>\n",
       "      <th>mean</th>\n",
       "      <th>std</th>\n",
       "      <th>min</th>\n",
       "      <th>25%</th>\n",
       "      <th>50%</th>\n",
       "      <th>75%</th>\n",
       "      <th>max</th>\n",
       "    </tr>\n",
       "  </thead>\n",
       "  <tbody>\n",
       "    <tr>\n",
       "      <th>Fare</th>\n",
       "      <td>891.0</td>\n",
       "      <td>32.204208</td>\n",
       "      <td>49.693429</td>\n",
       "      <td>0.0</td>\n",
       "      <td>7.9104</td>\n",
       "      <td>14.4542</td>\n",
       "      <td>31.0</td>\n",
       "      <td>512.3292</td>\n",
       "    </tr>\n",
       "  </tbody>\n",
       "</table>\n",
       "</div>"
      ],
      "text/plain": [
       "      count       mean        std  min     25%      50%   75%       max\n",
       "Fare  891.0  32.204208  49.693429  0.0  7.9104  14.4542  31.0  512.3292"
      ]
     },
     "execution_count": 51,
     "metadata": {},
     "output_type": "execute_result"
    }
   ],
   "source": [
    "train_df['Fare'].describe().to_frame().T"
   ]
  },
  {
   "cell_type": "code",
   "execution_count": 52,
   "id": "5e99d899",
   "metadata": {},
   "outputs": [
    {
     "data": {
      "image/png": "[encoded data removed]",
      "text/plain": [
       "<Figure size 720x360 with 1 Axes>"
      ]
     },
     "metadata": {
      "needs_background": "light"
     },
     "output_type": "display_data"
    }
   ],
   "source": [
    "plt.figure(figsize=(10,5))\n",
    "sns.histplot(data=train_df, x='Fare', bins=40, hue='Survived', kde=True)\n",
    "plt.title(\"Khả năng sống sót thông qua phân bố Giá vé\", fontsize=14)\n",
    "plt.xlabel(\"Fare\", fontsize=14);"
   ]
  },
  {
   "cell_type": "code",
   "execution_count": 53,
   "id": "9ccf566e",
   "metadata": {},
   "outputs": [],
   "source": [
    "train_df['Fare_groups'] = pd.qcut(train_df['Fare'], q = 4, labels = ['Cheap', 'Economic', 'Expensive', 'Luxury'])\n",
    "test_df['Fare_groups'] = pd.qcut(test_df['Fare'], q = 4, labels = ['Cheap', 'Economic', 'Expensive', 'Luxury'])"
   ]
  },
  {
   "cell_type": "code",
   "execution_count": 54,
   "id": "84332c89",
   "metadata": {},
   "outputs": [
    {
     "data": {
      "image/png": "[encoded data removed]",
      "text/plain": [
       "<Figure size 720x360 with 1 Axes>"
      ]
     },
     "metadata": {
      "needs_background": "light"
     },
     "output_type": "display_data"
    }
   ],
   "source": [
    "plt.figure(figsize=(10,5))\n",
    "sns.countplot(data=train_df, x='Fare_groups', hue='Survived', palette='Blues')\n",
    "plt.title(\"Khả năng sống sót thông qua Nhóm Giá vé\", fontsize=14)\n",
    "plt.xlabel(\"Fare Groups\", fontsize=14);"
   ]
  },
  {
   "cell_type": "markdown",
   "id": "f94fc6fc",
   "metadata": {},
   "source": [
    "- Giá vé trung bình là 32, giá vé tập trung từ 7.9 đến 31.\n",
    "- Giá vé thấp nhất là 0, có thể của các thủy thủ hoặc những người phục vụ trên tàu.\n",
    "- Giá vé cao nhất là 512, những hành khách này sống sót.\n",
    "- Những hành khách trả tiền cho vé tàu cao có tỷ lệ sống sót cao, ngược lại là những hành khách có giá vé rẻ và phổ thông có tỷ lệ tử vong cao hơn tỷ lệ sống sót."
   ]
  },
  {
   "cell_type": "code",
   "execution_count": 55,
   "id": "e1714dbd",
   "metadata": {},
   "outputs": [
    {
     "name": "stdout",
     "output_type": "stream",
     "text": [
      "Age has  0.20 % missing value\n",
      "Embarked has  0.00 % missing value\n",
      "Age has  0.21 % missing value\n",
      "Fare has  0.00 % missing value\n",
      "Fare_groups has  0.00 % missing value\n"
     ]
    }
   ],
   "source": [
    "def check_null_values(df):\n",
    "    for i in df.columns:\n",
    "        null_counts = df[i].isna().sum()\n",
    "        if null_counts > 0:\n",
    "            pct = null_counts / len(df)\n",
    "            print(f\"{i} has {pct : .2f} % missing value\")\n",
    "check_null_values(train_df)\n",
    "check_null_values(test_df)"
   ]
  },
  {
   "cell_type": "markdown",
   "id": "5395e866",
   "metadata": {},
   "source": [
    "### Xử lí dữ liệu khuyết thiếu:\n",
    "- Cột Age: thay bằng giá trị trung vị\n",
    "- Cột Embarked: thay giá trị mode\n",
    "- Cột Fare: thay trung vị"
   ]
  },
  {
   "cell_type": "code",
   "execution_count": 56,
   "id": "97dc15f1",
   "metadata": {},
   "outputs": [],
   "source": [
    "train_df['Age'] = train_df.groupby(['Sex', 'Pclass'])['Age'].apply(lambda x: x.fillna(x.median()))\n",
    "test_df['Age'] = test_df.groupby(['Sex', 'Pclass'])['Age'].apply(lambda x: x.fillna(x.median()))"
   ]
  },
  {
   "cell_type": "code",
   "execution_count": 57,
   "id": "7561f9da",
   "metadata": {},
   "outputs": [],
   "source": [
    "x = test_df['Fare'].values.reshape(-1,1)\n",
    "impute = SimpleImputer(missing_values = np.nan, strategy='median')\n",
    "impute.fit(x)\n",
    "test_df['Fare'] = impute.transform(test_df['Fare'].values.reshape(-1,1))"
   ]
  },
  {
   "cell_type": "code",
   "execution_count": 58,
   "id": "04d84bb2",
   "metadata": {},
   "outputs": [],
   "source": [
    "train_df['Embarked'] = train_df['Embarked'].fillna(\"S\")"
   ]
  },
  {
   "cell_type": "code",
   "execution_count": 59,
   "id": "9a344fc7",
   "metadata": {},
   "outputs": [
    {
     "name": "stdout",
     "output_type": "stream",
     "text": [
      "Fare_groups has  0.00 % missing value\n"
     ]
    }
   ],
   "source": [
    "check_null_values(train_df)\n",
    "check_null_values(test_df)"
   ]
  },
  {
   "cell_type": "code",
   "execution_count": 60,
   "id": "4511dc22",
   "metadata": {},
   "outputs": [],
   "source": [
    "test_df['Fare_groups'] = pd.qcut(test_df['Fare'], q = 4, labels = ['Cheap', 'Economic', 'Expensive', 'Luxury'])"
   ]
  },
  {
   "cell_type": "markdown",
   "id": "fbc7bccb",
   "metadata": {},
   "source": [
    "### Xử lí giá trị ngoại lai"
   ]
  },
  {
   "cell_type": "code",
   "execution_count": 61,
   "id": "f73d607c",
   "metadata": {},
   "outputs": [
    {
     "data": {
      "text/plain": [
       "<AxesSubplot:>"
      ]
     },
     "execution_count": 61,
     "metadata": {},
     "output_type": "execute_result"
    },
    {
     "data": {
      "image/png": "[encoded data removed]",
      "text/plain": [
       "<Figure size 432x288 with 1 Axes>"
      ]
     },
     "metadata": {
      "needs_background": "light"
     },
     "output_type": "display_data"
    }
   ],
   "source": [
    "sns.boxplot(data=train_df)"
   ]
  },
  {
   "cell_type": "code",
   "execution_count": 62,
   "id": "854f677b",
   "metadata": {},
   "outputs": [
    {
     "data": {
      "text/plain": [
       "<AxesSubplot:>"
      ]
     },
     "execution_count": 62,
     "metadata": {},
     "output_type": "execute_result"
    },
    {
     "data": {
      "image/png": "[encoded data removed]",
      "text/plain": [
       "<Figure size 432x288 with 1 Axes>"
      ]
     },
     "metadata": {
      "needs_background": "light"
     },
     "output_type": "display_data"
    }
   ],
   "source": [
    "sns.boxplot(data=test_df)"
   ]
  },
  {
   "cell_type": "code",
   "execution_count": 63,
   "id": "581146b4",
   "metadata": {},
   "outputs": [
    {
     "data": {
      "text/plain": [
       "65.6344"
      ]
     },
     "execution_count": 63,
     "metadata": {},
     "output_type": "execute_result"
    }
   ],
   "source": [
    "Q1 = train_df['Fare'].quantile(0.25)\n",
    "Q3 = train_df['Fare'].quantile(0.75)\n",
    "IQR = Q3 - Q1\n",
    "Q3 + 1.5*IQR"
   ]
  },
  {
   "cell_type": "code",
   "execution_count": 64,
   "id": "42fd0d87",
   "metadata": {},
   "outputs": [
    {
     "data": {
      "text/html": [
       "<div>\n",
       "<style scoped>\n",
       "    .dataframe tbody tr th:only-of-type {\n",
       "        vertical-align: middle;\n",
       "    }\n",
       "\n",
       "    .dataframe tbody tr th {\n",
       "        vertical-align: top;\n",
       "    }\n",
       "\n",
       "    .dataframe thead th {\n",
       "        text-align: right;\n",
       "    }\n",
       "</style>\n",
       "<table border=\"1\" class=\"dataframe\">\n",
       "  <thead>\n",
       "    <tr style=\"text-align: right;\">\n",
       "      <th></th>\n",
       "      <th>Survived</th>\n",
       "      <th>Pclass</th>\n",
       "      <th>Sex</th>\n",
       "      <th>Age</th>\n",
       "      <th>SibSp</th>\n",
       "      <th>Parch</th>\n",
       "      <th>Fare</th>\n",
       "      <th>Embarked</th>\n",
       "      <th>SibSp_groups</th>\n",
       "      <th>Parch_groups</th>\n",
       "      <th>Family_size</th>\n",
       "      <th>Fare_groups</th>\n",
       "    </tr>\n",
       "  </thead>\n",
       "  <tbody>\n",
       "    <tr>\n",
       "      <th>0</th>\n",
       "      <td>0</td>\n",
       "      <td>3</td>\n",
       "      <td>male</td>\n",
       "      <td>22.0</td>\n",
       "      <td>1</td>\n",
       "      <td>0</td>\n",
       "      <td>7.2500</td>\n",
       "      <td>S</td>\n",
       "      <td>Small</td>\n",
       "      <td>Solo</td>\n",
       "      <td>2</td>\n",
       "      <td>Cheap</td>\n",
       "    </tr>\n",
       "    <tr>\n",
       "      <th>2</th>\n",
       "      <td>1</td>\n",
       "      <td>3</td>\n",
       "      <td>female</td>\n",
       "      <td>26.0</td>\n",
       "      <td>0</td>\n",
       "      <td>0</td>\n",
       "      <td>7.9250</td>\n",
       "      <td>S</td>\n",
       "      <td>Solo</td>\n",
       "      <td>Solo</td>\n",
       "      <td>1</td>\n",
       "      <td>Economic</td>\n",
       "    </tr>\n",
       "    <tr>\n",
       "      <th>3</th>\n",
       "      <td>1</td>\n",
       "      <td>1</td>\n",
       "      <td>female</td>\n",
       "      <td>35.0</td>\n",
       "      <td>1</td>\n",
       "      <td>0</td>\n",
       "      <td>53.1000</td>\n",
       "      <td>S</td>\n",
       "      <td>Small</td>\n",
       "      <td>Solo</td>\n",
       "      <td>2</td>\n",
       "      <td>Luxury</td>\n",
       "    </tr>\n",
       "    <tr>\n",
       "      <th>4</th>\n",
       "      <td>0</td>\n",
       "      <td>3</td>\n",
       "      <td>male</td>\n",
       "      <td>35.0</td>\n",
       "      <td>0</td>\n",
       "      <td>0</td>\n",
       "      <td>8.0500</td>\n",
       "      <td>S</td>\n",
       "      <td>Solo</td>\n",
       "      <td>Solo</td>\n",
       "      <td>1</td>\n",
       "      <td>Economic</td>\n",
       "    </tr>\n",
       "    <tr>\n",
       "      <th>5</th>\n",
       "      <td>0</td>\n",
       "      <td>3</td>\n",
       "      <td>male</td>\n",
       "      <td>25.0</td>\n",
       "      <td>0</td>\n",
       "      <td>0</td>\n",
       "      <td>8.4583</td>\n",
       "      <td>Q</td>\n",
       "      <td>Solo</td>\n",
       "      <td>Solo</td>\n",
       "      <td>1</td>\n",
       "      <td>Economic</td>\n",
       "    </tr>\n",
       "    <tr>\n",
       "      <th>...</th>\n",
       "      <td>...</td>\n",
       "      <td>...</td>\n",
       "      <td>...</td>\n",
       "      <td>...</td>\n",
       "      <td>...</td>\n",
       "      <td>...</td>\n",
       "      <td>...</td>\n",
       "      <td>...</td>\n",
       "      <td>...</td>\n",
       "      <td>...</td>\n",
       "      <td>...</td>\n",
       "      <td>...</td>\n",
       "    </tr>\n",
       "    <tr>\n",
       "      <th>886</th>\n",
       "      <td>0</td>\n",
       "      <td>2</td>\n",
       "      <td>male</td>\n",
       "      <td>27.0</td>\n",
       "      <td>0</td>\n",
       "      <td>0</td>\n",
       "      <td>13.0000</td>\n",
       "      <td>S</td>\n",
       "      <td>Solo</td>\n",
       "      <td>Solo</td>\n",
       "      <td>1</td>\n",
       "      <td>Economic</td>\n",
       "    </tr>\n",
       "    <tr>\n",
       "      <th>887</th>\n",
       "      <td>1</td>\n",
       "      <td>1</td>\n",
       "      <td>female</td>\n",
       "      <td>19.0</td>\n",
       "      <td>0</td>\n",
       "      <td>0</td>\n",
       "      <td>30.0000</td>\n",
       "      <td>S</td>\n",
       "      <td>Solo</td>\n",
       "      <td>Solo</td>\n",
       "      <td>1</td>\n",
       "      <td>Expensive</td>\n",
       "    </tr>\n",
       "    <tr>\n",
       "      <th>888</th>\n",
       "      <td>0</td>\n",
       "      <td>3</td>\n",
       "      <td>female</td>\n",
       "      <td>21.5</td>\n",
       "      <td>1</td>\n",
       "      <td>2</td>\n",
       "      <td>23.4500</td>\n",
       "      <td>S</td>\n",
       "      <td>Small</td>\n",
       "      <td>Small</td>\n",
       "      <td>4</td>\n",
       "      <td>Expensive</td>\n",
       "    </tr>\n",
       "    <tr>\n",
       "      <th>889</th>\n",
       "      <td>1</td>\n",
       "      <td>1</td>\n",
       "      <td>male</td>\n",
       "      <td>26.0</td>\n",
       "      <td>0</td>\n",
       "      <td>0</td>\n",
       "      <td>30.0000</td>\n",
       "      <td>C</td>\n",
       "      <td>Solo</td>\n",
       "      <td>Solo</td>\n",
       "      <td>1</td>\n",
       "      <td>Expensive</td>\n",
       "    </tr>\n",
       "    <tr>\n",
       "      <th>890</th>\n",
       "      <td>0</td>\n",
       "      <td>3</td>\n",
       "      <td>male</td>\n",
       "      <td>32.0</td>\n",
       "      <td>0</td>\n",
       "      <td>0</td>\n",
       "      <td>7.7500</td>\n",
       "      <td>Q</td>\n",
       "      <td>Solo</td>\n",
       "      <td>Solo</td>\n",
       "      <td>1</td>\n",
       "      <td>Cheap</td>\n",
       "    </tr>\n",
       "  </tbody>\n",
       "</table>\n",
       "<p>775 rows × 12 columns</p>\n",
       "</div>"
      ],
      "text/plain": [
       "     Survived Pclass     Sex   Age SibSp Parch     Fare Embarked SibSp_groups  \\\n",
       "0           0      3    male  22.0     1     0   7.2500        S        Small   \n",
       "2           1      3  female  26.0     0     0   7.9250        S         Solo   \n",
       "3           1      1  female  35.0     1     0  53.1000        S        Small   \n",
       "4           0      3    male  35.0     0     0   8.0500        S         Solo   \n",
       "5           0      3    male  25.0     0     0   8.4583        Q         Solo   \n",
       "..        ...    ...     ...   ...   ...   ...      ...      ...          ...   \n",
       "886         0      2    male  27.0     0     0  13.0000        S         Solo   \n",
       "887         1      1  female  19.0     0     0  30.0000        S         Solo   \n",
       "888         0      3  female  21.5     1     2  23.4500        S        Small   \n",
       "889         1      1    male  26.0     0     0  30.0000        C         Solo   \n",
       "890         0      3    male  32.0     0     0   7.7500        Q         Solo   \n",
       "\n",
       "    Parch_groups  Family_size Fare_groups  \n",
       "0           Solo            2       Cheap  \n",
       "2           Solo            1    Economic  \n",
       "3           Solo            2      Luxury  \n",
       "4           Solo            1    Economic  \n",
       "5           Solo            1    Economic  \n",
       "..           ...          ...         ...  \n",
       "886         Solo            1    Economic  \n",
       "887         Solo            1   Expensive  \n",
       "888        Small            4   Expensive  \n",
       "889         Solo            1   Expensive  \n",
       "890         Solo            1       Cheap  \n",
       "\n",
       "[775 rows x 12 columns]"
      ]
     },
     "execution_count": 64,
     "metadata": {},
     "output_type": "execute_result"
    }
   ],
   "source": [
    "train_df = train_df[(train_df['Fare'] > Q1 - 1.5*IQR) & (train_df['Fare'] < Q3 + 1.5*IQR)]\n",
    "train_df"
   ]
  },
  {
   "cell_type": "markdown",
   "id": "a84a5727",
   "metadata": {},
   "source": [
    "## Xây dựng mô hình dự đoán dựa trên các thuộc tính:\n",
    "- Numerical: Age, Fare\n",
    "- Categorical: Pclass, Sex, Embarked, Family_size\n",
    "- Output: Survived"
   ]
  },
  {
   "cell_type": "code",
   "execution_count": 65,
   "id": "7ada23d5",
   "metadata": {},
   "outputs": [],
   "source": [
    "new_train_df = train_df[['Age', 'Fare', 'Pclass', 'Sex', 'Embarked', 'Family_size']]\n",
    "new_test_df = test_df[['Age', 'Fare', 'Pclass', 'Sex', 'Embarked', 'Family_size']]"
   ]
  },
  {
   "cell_type": "markdown",
   "id": "b7c4017f",
   "metadata": {},
   "source": [
    "#### Chuyển dữ liệu category thành các biến giả"
   ]
  },
  {
   "cell_type": "code",
   "execution_count": 66,
   "id": "bc238794",
   "metadata": {},
   "outputs": [
    {
     "data": {
      "text/html": [
       "<div>\n",
       "<style scoped>\n",
       "    .dataframe tbody tr th:only-of-type {\n",
       "        vertical-align: middle;\n",
       "    }\n",
       "\n",
       "    .dataframe tbody tr th {\n",
       "        vertical-align: top;\n",
       "    }\n",
       "\n",
       "    .dataframe thead th {\n",
       "        text-align: right;\n",
       "    }\n",
       "</style>\n",
       "<table border=\"1\" class=\"dataframe\">\n",
       "  <thead>\n",
       "    <tr style=\"text-align: right;\">\n",
       "      <th></th>\n",
       "      <th>Age</th>\n",
       "      <th>Fare</th>\n",
       "      <th>Family_size</th>\n",
       "      <th>Pclass_1</th>\n",
       "      <th>Pclass_2</th>\n",
       "      <th>Pclass_3</th>\n",
       "      <th>Sex_female</th>\n",
       "      <th>Sex_male</th>\n",
       "      <th>Embarked_C</th>\n",
       "      <th>Embarked_Q</th>\n",
       "      <th>Embarked_S</th>\n",
       "    </tr>\n",
       "  </thead>\n",
       "  <tbody>\n",
       "    <tr>\n",
       "      <th>0</th>\n",
       "      <td>22.0</td>\n",
       "      <td>7.2500</td>\n",
       "      <td>2</td>\n",
       "      <td>0</td>\n",
       "      <td>0</td>\n",
       "      <td>1</td>\n",
       "      <td>0</td>\n",
       "      <td>1</td>\n",
       "      <td>0</td>\n",
       "      <td>0</td>\n",
       "      <td>1</td>\n",
       "    </tr>\n",
       "    <tr>\n",
       "      <th>2</th>\n",
       "      <td>26.0</td>\n",
       "      <td>7.9250</td>\n",
       "      <td>1</td>\n",
       "      <td>0</td>\n",
       "      <td>0</td>\n",
       "      <td>1</td>\n",
       "      <td>1</td>\n",
       "      <td>0</td>\n",
       "      <td>0</td>\n",
       "      <td>0</td>\n",
       "      <td>1</td>\n",
       "    </tr>\n",
       "    <tr>\n",
       "      <th>3</th>\n",
       "      <td>35.0</td>\n",
       "      <td>53.1000</td>\n",
       "      <td>2</td>\n",
       "      <td>1</td>\n",
       "      <td>0</td>\n",
       "      <td>0</td>\n",
       "      <td>1</td>\n",
       "      <td>0</td>\n",
       "      <td>0</td>\n",
       "      <td>0</td>\n",
       "      <td>1</td>\n",
       "    </tr>\n",
       "    <tr>\n",
       "      <th>4</th>\n",
       "      <td>35.0</td>\n",
       "      <td>8.0500</td>\n",
       "      <td>1</td>\n",
       "      <td>0</td>\n",
       "      <td>0</td>\n",
       "      <td>1</td>\n",
       "      <td>0</td>\n",
       "      <td>1</td>\n",
       "      <td>0</td>\n",
       "      <td>0</td>\n",
       "      <td>1</td>\n",
       "    </tr>\n",
       "    <tr>\n",
       "      <th>5</th>\n",
       "      <td>25.0</td>\n",
       "      <td>8.4583</td>\n",
       "      <td>1</td>\n",
       "      <td>0</td>\n",
       "      <td>0</td>\n",
       "      <td>1</td>\n",
       "      <td>0</td>\n",
       "      <td>1</td>\n",
       "      <td>0</td>\n",
       "      <td>1</td>\n",
       "      <td>0</td>\n",
       "    </tr>\n",
       "  </tbody>\n",
       "</table>\n",
       "</div>"
      ],
      "text/plain": [
       "    Age     Fare  Family_size  Pclass_1  Pclass_2  Pclass_3  Sex_female  \\\n",
       "0  22.0   7.2500            2         0         0         1           0   \n",
       "2  26.0   7.9250            1         0         0         1           1   \n",
       "3  35.0  53.1000            2         1         0         0           1   \n",
       "4  35.0   8.0500            1         0         0         1           0   \n",
       "5  25.0   8.4583            1         0         0         1           0   \n",
       "\n",
       "   Sex_male  Embarked_C  Embarked_Q  Embarked_S  \n",
       "0         1           0           0           1  \n",
       "2         0           0           0           1  \n",
       "3         0           0           0           1  \n",
       "4         1           0           0           1  \n",
       "5         1           0           1           0  "
      ]
     },
     "execution_count": 66,
     "metadata": {},
     "output_type": "execute_result"
    }
   ],
   "source": [
    "X = pd.get_dummies(new_train_df)\n",
    "X.head()"
   ]
  },
  {
   "cell_type": "markdown",
   "id": "d9968ae1",
   "metadata": {},
   "source": [
    "#### Sử dụng StandardScaler để co dữ liệu lại"
   ]
  },
  {
   "cell_type": "code",
   "execution_count": 67,
   "id": "08f24845",
   "metadata": {},
   "outputs": [
    {
     "data": {
      "text/plain": [
       "array([[-0.49150234, -0.77911707,  0.1567387 , ..., -0.41955247,\n",
       "        -0.32732684,  0.57188705],\n",
       "       [-0.18516261, -0.7293725 , -0.54949673, ..., -0.41955247,\n",
       "        -0.32732684,  0.57188705],\n",
       "       [ 0.5041018 ,  2.59982835,  0.1567387 , ..., -0.41955247,\n",
       "        -0.32732684,  0.57188705],\n",
       "       ...,\n",
       "       [-0.52979481,  0.41475242,  1.56920958, ..., -0.41955247,\n",
       "        -0.32732684,  0.57188705],\n",
       "       [-0.18516261,  0.89745891, -0.54949673, ...,  2.38349208,\n",
       "        -0.32732684, -1.74859704],\n",
       "       [ 0.274347  , -0.74226924, -0.54949673, ..., -0.41955247,\n",
       "         3.05505046, -1.74859704]])"
      ]
     },
     "execution_count": 67,
     "metadata": {},
     "output_type": "execute_result"
    }
   ],
   "source": [
    "scaler = StandardScaler()\n",
    "X = scaler.fit_transform(X)\n",
    "X"
   ]
  },
  {
   "cell_type": "code",
   "execution_count": 68,
   "id": "8af8220d",
   "metadata": {},
   "outputs": [
    {
     "data": {
      "text/plain": [
       "0      0\n",
       "2      1\n",
       "3      1\n",
       "4      0\n",
       "5      0\n",
       "      ..\n",
       "886    0\n",
       "887    1\n",
       "888    0\n",
       "889    1\n",
       "890    0\n",
       "Name: Survived, Length: 775, dtype: int64"
      ]
     },
     "execution_count": 68,
     "metadata": {},
     "output_type": "execute_result"
    }
   ],
   "source": [
    "y = train_df['Survived']\n",
    "y"
   ]
  },
  {
   "cell_type": "markdown",
   "id": "cfdb0033",
   "metadata": {},
   "source": [
    "#### Chia X và y thành tập train và validation theo tỷ lệ 80:20"
   ]
  },
  {
   "cell_type": "code",
   "execution_count": 69,
   "id": "48cca7e8",
   "metadata": {},
   "outputs": [],
   "source": [
    "x_train, x_val, y_train, y_val = train_test_split(X, y, test_size=0.2, random_state=0)"
   ]
  },
  {
   "cell_type": "markdown",
   "id": "5282fbc9",
   "metadata": {},
   "source": [
    "#### Chạy mô hình Logistic Regression"
   ]
  },
  {
   "cell_type": "code",
   "execution_count": 70,
   "id": "a0c3c61e",
   "metadata": {},
   "outputs": [
    {
     "data": {
      "text/plain": [
       "LogisticRegression()"
      ]
     },
     "execution_count": 70,
     "metadata": {},
     "output_type": "execute_result"
    }
   ],
   "source": [
    "logistic = LogisticRegression()\n",
    "logistic.fit(x_train, y_train)"
   ]
  },
  {
   "cell_type": "markdown",
   "id": "7c67c2f6",
   "metadata": {},
   "source": [
    "#### Đánh giá mô hình"
   ]
  },
  {
   "cell_type": "code",
   "execution_count": 71,
   "id": "55b290d1",
   "metadata": {},
   "outputs": [
    {
     "data": {
      "text/plain": [
       "0.8048387096774193"
      ]
     },
     "execution_count": 71,
     "metadata": {},
     "output_type": "execute_result"
    }
   ],
   "source": [
    "logistic.score(x_train, y_train)"
   ]
  },
  {
   "cell_type": "code",
   "execution_count": 72,
   "id": "d781563f",
   "metadata": {},
   "outputs": [
    {
     "data": {
      "text/plain": [
       "0.7935483870967742"
      ]
     },
     "execution_count": 72,
     "metadata": {},
     "output_type": "execute_result"
    }
   ],
   "source": [
    "logistic.score(x_val, y_val)"
   ]
  },
  {
   "cell_type": "code",
   "execution_count": 73,
   "id": "97d6bf56",
   "metadata": {},
   "outputs": [],
   "source": [
    "y_pred = logistic.predict(x_val)"
   ]
  },
  {
   "cell_type": "code",
   "execution_count": 74,
   "id": "65f56eec",
   "metadata": {},
   "outputs": [
    {
     "name": "stdout",
     "output_type": "stream",
     "text": [
      "Độ dự đoán chính xác của mô hình: 0.7935483870967742\n"
     ]
    }
   ],
   "source": [
    "print(f\"Độ dự đoán chính xác của mô hình: {accuracy_score(y_pred, y_val)}\")"
   ]
  },
  {
   "cell_type": "markdown",
   "id": "9730f3f2",
   "metadata": {},
   "source": [
    "#### Sử dụng mô hình trên tập test"
   ]
  },
  {
   "cell_type": "code",
   "execution_count": 75,
   "id": "284f7388",
   "metadata": {},
   "outputs": [
    {
     "data": {
      "text/html": [
       "<div>\n",
       "<style scoped>\n",
       "    .dataframe tbody tr th:only-of-type {\n",
       "        vertical-align: middle;\n",
       "    }\n",
       "\n",
       "    .dataframe tbody tr th {\n",
       "        vertical-align: top;\n",
       "    }\n",
       "\n",
       "    .dataframe thead th {\n",
       "        text-align: right;\n",
       "    }\n",
       "</style>\n",
       "<table border=\"1\" class=\"dataframe\">\n",
       "  <thead>\n",
       "    <tr style=\"text-align: right;\">\n",
       "      <th></th>\n",
       "      <th>Age</th>\n",
       "      <th>Fare</th>\n",
       "      <th>Pclass</th>\n",
       "      <th>Sex</th>\n",
       "      <th>Embarked</th>\n",
       "      <th>Family_size</th>\n",
       "    </tr>\n",
       "  </thead>\n",
       "  <tbody>\n",
       "    <tr>\n",
       "      <th>0</th>\n",
       "      <td>34.5</td>\n",
       "      <td>7.8292</td>\n",
       "      <td>3</td>\n",
       "      <td>male</td>\n",
       "      <td>Q</td>\n",
       "      <td>1</td>\n",
       "    </tr>\n",
       "    <tr>\n",
       "      <th>1</th>\n",
       "      <td>47.0</td>\n",
       "      <td>7.0000</td>\n",
       "      <td>3</td>\n",
       "      <td>female</td>\n",
       "      <td>S</td>\n",
       "      <td>2</td>\n",
       "    </tr>\n",
       "    <tr>\n",
       "      <th>2</th>\n",
       "      <td>62.0</td>\n",
       "      <td>9.6875</td>\n",
       "      <td>2</td>\n",
       "      <td>male</td>\n",
       "      <td>Q</td>\n",
       "      <td>1</td>\n",
       "    </tr>\n",
       "    <tr>\n",
       "      <th>3</th>\n",
       "      <td>27.0</td>\n",
       "      <td>8.6625</td>\n",
       "      <td>3</td>\n",
       "      <td>male</td>\n",
       "      <td>S</td>\n",
       "      <td>1</td>\n",
       "    </tr>\n",
       "    <tr>\n",
       "      <th>4</th>\n",
       "      <td>22.0</td>\n",
       "      <td>12.2875</td>\n",
       "      <td>3</td>\n",
       "      <td>female</td>\n",
       "      <td>S</td>\n",
       "      <td>3</td>\n",
       "    </tr>\n",
       "    <tr>\n",
       "      <th>...</th>\n",
       "      <td>...</td>\n",
       "      <td>...</td>\n",
       "      <td>...</td>\n",
       "      <td>...</td>\n",
       "      <td>...</td>\n",
       "      <td>...</td>\n",
       "    </tr>\n",
       "    <tr>\n",
       "      <th>413</th>\n",
       "      <td>24.0</td>\n",
       "      <td>8.0500</td>\n",
       "      <td>3</td>\n",
       "      <td>male</td>\n",
       "      <td>S</td>\n",
       "      <td>1</td>\n",
       "    </tr>\n",
       "    <tr>\n",
       "      <th>414</th>\n",
       "      <td>39.0</td>\n",
       "      <td>108.9000</td>\n",
       "      <td>1</td>\n",
       "      <td>female</td>\n",
       "      <td>C</td>\n",
       "      <td>1</td>\n",
       "    </tr>\n",
       "    <tr>\n",
       "      <th>415</th>\n",
       "      <td>38.5</td>\n",
       "      <td>7.2500</td>\n",
       "      <td>3</td>\n",
       "      <td>male</td>\n",
       "      <td>S</td>\n",
       "      <td>1</td>\n",
       "    </tr>\n",
       "    <tr>\n",
       "      <th>416</th>\n",
       "      <td>24.0</td>\n",
       "      <td>8.0500</td>\n",
       "      <td>3</td>\n",
       "      <td>male</td>\n",
       "      <td>S</td>\n",
       "      <td>1</td>\n",
       "    </tr>\n",
       "    <tr>\n",
       "      <th>417</th>\n",
       "      <td>24.0</td>\n",
       "      <td>22.3583</td>\n",
       "      <td>3</td>\n",
       "      <td>male</td>\n",
       "      <td>C</td>\n",
       "      <td>3</td>\n",
       "    </tr>\n",
       "  </tbody>\n",
       "</table>\n",
       "<p>418 rows × 6 columns</p>\n",
       "</div>"
      ],
      "text/plain": [
       "      Age      Fare Pclass     Sex Embarked  Family_size\n",
       "0    34.5    7.8292      3    male        Q            1\n",
       "1    47.0    7.0000      3  female        S            2\n",
       "2    62.0    9.6875      2    male        Q            1\n",
       "3    27.0    8.6625      3    male        S            1\n",
       "4    22.0   12.2875      3  female        S            3\n",
       "..    ...       ...    ...     ...      ...          ...\n",
       "413  24.0    8.0500      3    male        S            1\n",
       "414  39.0  108.9000      1  female        C            1\n",
       "415  38.5    7.2500      3    male        S            1\n",
       "416  24.0    8.0500      3    male        S            1\n",
       "417  24.0   22.3583      3    male        C            3\n",
       "\n",
       "[418 rows x 6 columns]"
      ]
     },
     "execution_count": 75,
     "metadata": {},
     "output_type": "execute_result"
    }
   ],
   "source": [
    "new_test_df"
   ]
  },
  {
   "cell_type": "code",
   "execution_count": 76,
   "id": "95b51d60",
   "metadata": {},
   "outputs": [],
   "source": [
    "X_test = pd.get_dummies(new_test_df)\n",
    "X_test = scaler.transform(X_test)\n",
    "y_test_pred = logistic.predict(X_test)"
   ]
  },
  {
   "cell_type": "code",
   "execution_count": 77,
   "id": "7b8544d0",
   "metadata": {},
   "outputs": [
    {
     "name": "stderr",
     "output_type": "stream",
     "text": [
      "<ipython-input-77-7b5a0413bc9b>:1: SettingWithCopyWarning: \n",
      "A value is trying to be set on a copy of a slice from a DataFrame.\n",
      "Try using .loc[row_indexer,col_indexer] = value instead\n",
      "\n",
      "See the caveats in the documentation: https://pandas.pydata.org/pandas-docs/stable/user_guide/indexing.html#returning-a-view-versus-a-copy\n",
      "  new_test_df['Survived_pred'] = y_test_pred\n"
     ]
    }
   ],
   "source": [
    "new_test_df['Survived_pred'] = y_test_pred"
   ]
  },
  {
   "cell_type": "code",
   "execution_count": 78,
   "id": "e0bdc752",
   "metadata": {},
   "outputs": [
    {
     "data": {
      "text/html": [
       "<div>\n",
       "<style scoped>\n",
       "    .dataframe tbody tr th:only-of-type {\n",
       "        vertical-align: middle;\n",
       "    }\n",
       "\n",
       "    .dataframe tbody tr th {\n",
       "        vertical-align: top;\n",
       "    }\n",
       "\n",
       "    .dataframe thead th {\n",
       "        text-align: right;\n",
       "    }\n",
       "</style>\n",
       "<table border=\"1\" class=\"dataframe\">\n",
       "  <thead>\n",
       "    <tr style=\"text-align: right;\">\n",
       "      <th></th>\n",
       "      <th>Age</th>\n",
       "      <th>Fare</th>\n",
       "      <th>Pclass</th>\n",
       "      <th>Sex</th>\n",
       "      <th>Embarked</th>\n",
       "      <th>Family_size</th>\n",
       "      <th>Survived_pred</th>\n",
       "    </tr>\n",
       "  </thead>\n",
       "  <tbody>\n",
       "    <tr>\n",
       "      <th>0</th>\n",
       "      <td>34.5</td>\n",
       "      <td>7.8292</td>\n",
       "      <td>3</td>\n",
       "      <td>male</td>\n",
       "      <td>Q</td>\n",
       "      <td>1</td>\n",
       "      <td>0</td>\n",
       "    </tr>\n",
       "    <tr>\n",
       "      <th>1</th>\n",
       "      <td>47.0</td>\n",
       "      <td>7.0000</td>\n",
       "      <td>3</td>\n",
       "      <td>female</td>\n",
       "      <td>S</td>\n",
       "      <td>2</td>\n",
       "      <td>0</td>\n",
       "    </tr>\n",
       "    <tr>\n",
       "      <th>2</th>\n",
       "      <td>62.0</td>\n",
       "      <td>9.6875</td>\n",
       "      <td>2</td>\n",
       "      <td>male</td>\n",
       "      <td>Q</td>\n",
       "      <td>1</td>\n",
       "      <td>0</td>\n",
       "    </tr>\n",
       "    <tr>\n",
       "      <th>3</th>\n",
       "      <td>27.0</td>\n",
       "      <td>8.6625</td>\n",
       "      <td>3</td>\n",
       "      <td>male</td>\n",
       "      <td>S</td>\n",
       "      <td>1</td>\n",
       "      <td>0</td>\n",
       "    </tr>\n",
       "    <tr>\n",
       "      <th>4</th>\n",
       "      <td>22.0</td>\n",
       "      <td>12.2875</td>\n",
       "      <td>3</td>\n",
       "      <td>female</td>\n",
       "      <td>S</td>\n",
       "      <td>3</td>\n",
       "      <td>0</td>\n",
       "    </tr>\n",
       "    <tr>\n",
       "      <th>...</th>\n",
       "      <td>...</td>\n",
       "      <td>...</td>\n",
       "      <td>...</td>\n",
       "      <td>...</td>\n",
       "      <td>...</td>\n",
       "      <td>...</td>\n",
       "      <td>...</td>\n",
       "    </tr>\n",
       "    <tr>\n",
       "      <th>413</th>\n",
       "      <td>24.0</td>\n",
       "      <td>8.0500</td>\n",
       "      <td>3</td>\n",
       "      <td>male</td>\n",
       "      <td>S</td>\n",
       "      <td>1</td>\n",
       "      <td>0</td>\n",
       "    </tr>\n",
       "    <tr>\n",
       "      <th>414</th>\n",
       "      <td>39.0</td>\n",
       "      <td>108.9000</td>\n",
       "      <td>1</td>\n",
       "      <td>female</td>\n",
       "      <td>C</td>\n",
       "      <td>1</td>\n",
       "      <td>1</td>\n",
       "    </tr>\n",
       "    <tr>\n",
       "      <th>415</th>\n",
       "      <td>38.5</td>\n",
       "      <td>7.2500</td>\n",
       "      <td>3</td>\n",
       "      <td>male</td>\n",
       "      <td>S</td>\n",
       "      <td>1</td>\n",
       "      <td>0</td>\n",
       "    </tr>\n",
       "    <tr>\n",
       "      <th>416</th>\n",
       "      <td>24.0</td>\n",
       "      <td>8.0500</td>\n",
       "      <td>3</td>\n",
       "      <td>male</td>\n",
       "      <td>S</td>\n",
       "      <td>1</td>\n",
       "      <td>0</td>\n",
       "    </tr>\n",
       "    <tr>\n",
       "      <th>417</th>\n",
       "      <td>24.0</td>\n",
       "      <td>22.3583</td>\n",
       "      <td>3</td>\n",
       "      <td>male</td>\n",
       "      <td>C</td>\n",
       "      <td>3</td>\n",
       "      <td>0</td>\n",
       "    </tr>\n",
       "  </tbody>\n",
       "</table>\n",
       "<p>418 rows × 7 columns</p>\n",
       "</div>"
      ],
      "text/plain": [
       "      Age      Fare Pclass     Sex Embarked  Family_size  Survived_pred\n",
       "0    34.5    7.8292      3    male        Q            1              0\n",
       "1    47.0    7.0000      3  female        S            2              0\n",
       "2    62.0    9.6875      2    male        Q            1              0\n",
       "3    27.0    8.6625      3    male        S            1              0\n",
       "4    22.0   12.2875      3  female        S            3              0\n",
       "..    ...       ...    ...     ...      ...          ...            ...\n",
       "413  24.0    8.0500      3    male        S            1              0\n",
       "414  39.0  108.9000      1  female        C            1              1\n",
       "415  38.5    7.2500      3    male        S            1              0\n",
       "416  24.0    8.0500      3    male        S            1              0\n",
       "417  24.0   22.3583      3    male        C            3              0\n",
       "\n",
       "[418 rows x 7 columns]"
      ]
     },
     "execution_count": 78,
     "metadata": {},
     "output_type": "execute_result"
    }
   ],
   "source": [
    "new_test_df"
   ]
  },
  {
   "cell_type": "markdown",
   "id": "f6c11a34",
   "metadata": {},
   "source": [
    "## Lưu mô hình lại"
   ]
  },
  {
   "cell_type": "code",
   "execution_count": 81,
   "id": "d00d59e2",
   "metadata": {},
   "outputs": [],
   "source": [
    "import pickle\n",
    "model = pickle.dump(logistic, open(\"logistictitanic.sav\", \"wb\"))"
   ]
  }
 ],
 "metadata": {
  "kernelspec": {
   "display_name": "Python 3",
   "language": "python",
   "name": "python3"
  },
  "language_info": {
   "codemirror_mode": {
    "name": "ipython",
    "version": 3
   },
   "file_extension": ".py",
   "mimetype": "text/x-python",
   "name": "python",
   "nbconvert_exporter": "python",
   "pygments_lexer": "ipython3",
   "version": "3.8.8"
  }
 },
 "nbformat": 4,
 "nbformat_minor": 5
}
